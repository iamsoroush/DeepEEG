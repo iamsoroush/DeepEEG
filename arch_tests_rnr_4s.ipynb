{
  "nbformat": 4,
  "nbformat_minor": 0,
  "metadata": {
    "colab": {
      "name": "arch_tests_rnr_4s.ipynb",
      "provenance": [],
      "collapsed_sections": [],
      "include_colab_link": true
    },
    "kernelspec": {
      "name": "python3",
      "display_name": "Python 3"
    },
    "accelerator": "GPU"
  },
  "cells": [
    {
      "cell_type": "markdown",
      "metadata": {
        "id": "view-in-github",
        "colab_type": "text"
      },
      "source": [
        "<a href=\"https://colab.research.google.com/github/iamsoroush/DeepEEG/blob/master/arch_tests_rnr_4s.ipynb\" target=\"_parent\"><img src=\"https://colab.research.google.com/assets/colab-badge.svg\" alt=\"Open In Colab\"/></a>"
      ]
    },
    {
      "cell_type": "code",
      "metadata": {
        "id": "_JCUvRGHlz5M",
        "colab_type": "code",
        "outputId": "f91daeed-01c4-42b0-d971-757f122964b6",
        "colab": {
          "base_uri": "https://localhost:8080/",
          "height": 386
        }
      },
      "source": [
        "#@title # Clone the repository and upgrade Keras {display-mode: \"form\"}\n",
        "\n",
        "!git clone https://github.com/iamsoroush/DeepEEG.git\n",
        "!pip install --upgrade keras"
      ],
      "execution_count": 1,
      "outputs": [
        {
          "output_type": "stream",
          "text": [
            "Cloning into 'DeepEEG'...\n",
            "remote: Enumerating objects: 136, done.\u001b[K\n",
            "remote: Counting objects: 100% (136/136), done.\u001b[K\n",
            "remote: Compressing objects: 100% (94/94), done.\u001b[K\n",
            "remote: Total 136 (delta 83), reused 80 (delta 42), pack-reused 0\u001b[K\n",
            "Receiving objects: 100% (136/136), 40.16 KiB | 252.00 KiB/s, done.\n",
            "Resolving deltas: 100% (83/83), done.\n",
            "Collecting keras\n",
            "\u001b[?25l  Downloading https://files.pythonhosted.org/packages/ad/fd/6bfe87920d7f4fd475acd28500a42482b6b84479832bdc0fe9e589a60ceb/Keras-2.3.1-py2.py3-none-any.whl (377kB)\n",
            "\u001b[K     |████████████████████████████████| 378kB 2.8MB/s \n",
            "\u001b[?25hRequirement already satisfied, skipping upgrade: keras-preprocessing>=1.0.5 in /usr/local/lib/python3.6/dist-packages (from keras) (1.1.0)\n",
            "Requirement already satisfied, skipping upgrade: pyyaml in /usr/local/lib/python3.6/dist-packages (from keras) (3.13)\n",
            "Requirement already satisfied, skipping upgrade: h5py in /usr/local/lib/python3.6/dist-packages (from keras) (2.8.0)\n",
            "Requirement already satisfied, skipping upgrade: scipy>=0.14 in /usr/local/lib/python3.6/dist-packages (from keras) (1.3.2)\n",
            "Requirement already satisfied, skipping upgrade: six>=1.9.0 in /usr/local/lib/python3.6/dist-packages (from keras) (1.12.0)\n",
            "Requirement already satisfied, skipping upgrade: keras-applications>=1.0.6 in /usr/local/lib/python3.6/dist-packages (from keras) (1.0.8)\n",
            "Requirement already satisfied, skipping upgrade: numpy>=1.9.1 in /usr/local/lib/python3.6/dist-packages (from keras) (1.17.4)\n",
            "Installing collected packages: keras\n",
            "  Found existing installation: Keras 2.2.5\n",
            "    Uninstalling Keras-2.2.5:\n",
            "      Successfully uninstalled Keras-2.2.5\n",
            "Successfully installed keras-2.3.1\n"
          ],
          "name": "stdout"
        }
      ]
    },
    {
      "cell_type": "code",
      "metadata": {
        "id": "7_sHB4_nsc8J",
        "colab_type": "code",
        "colab": {}
      },
      "source": [
        "!rm -r DeepEEG"
      ],
      "execution_count": 0,
      "outputs": []
    },
    {
      "cell_type": "code",
      "metadata": {
        "id": "-dMfhjVypjFa",
        "colab_type": "code",
        "outputId": "d7383d5b-13e8-42f1-8694-dba68276c9c1",
        "colab": {
          "base_uri": "https://localhost:8080/",
          "height": 200
        }
      },
      "source": [
        "#@title # Imports {display-mode: \"form\"}\n",
        "\n",
        "import os\n",
        "import pickle\n",
        "import sys\n",
        "sys.path.append('DeepEEG')\n",
        "\n",
        "PACKAGE_PARENT = '..'\n",
        "SCRIPT_DIR = os.path.dirname(os.path.realpath(os.getcwd()))\n",
        "sys.path.append(os.path.normpath(os.path.join(SCRIPT_DIR, PACKAGE_PARENT)))\n",
        "\n",
        "import numpy as np\n",
        "\n",
        "from deepeeg.helpers import CrossValidator\n",
        "from deepeeg.models import BaselineDeepEEG, DilatedDeepEEG, WindowedDeepEEG, LightDilatedDeepEEG\n",
        "from deepeeg.dataset import DataLoader, Splitter, FixedLenGenerator\n",
        "\n",
        "from google.colab import drive\n",
        "drive.mount('/content/gdrive')"
      ],
      "execution_count": 2,
      "outputs": [
        {
          "output_type": "display_data",
          "data": {
            "text/html": [
              "<p style=\"color: red;\">\n",
              "The default version of TensorFlow in Colab will soon switch to TensorFlow 2.x.<br>\n",
              "We recommend you <a href=\"https://www.tensorflow.org/guide/migrate\" target=\"_blank\">upgrade</a> now \n",
              "or ensure your notebook will continue to use TensorFlow 1.x via the <code>%tensorflow_version 1.x</code> magic:\n",
              "<a href=\"https://colab.research.google.com/notebooks/tensorflow_version.ipynb\" target=\"_blank\">more info</a>.</p>\n"
            ],
            "text/plain": [
              "<IPython.core.display.HTML object>"
            ]
          },
          "metadata": {
            "tags": []
          }
        },
        {
          "output_type": "stream",
          "text": [
            "tensorflow version:  1.15.0\n"
          ],
          "name": "stdout"
        },
        {
          "output_type": "stream",
          "text": [
            "Using TensorFlow backend.\n"
          ],
          "name": "stderr"
        },
        {
          "output_type": "stream",
          "text": [
            "Go to this URL in a browser: https://accounts.google.com/o/oauth2/auth?client_id=947318989803-6bn6qk8qdgf4n4g3pfee6491hc0brc4i.apps.googleusercontent.com&redirect_uri=urn%3aietf%3awg%3aoauth%3a2.0%3aoob&response_type=code&scope=email%20https%3a%2f%2fwww.googleapis.com%2fauth%2fdocs.test%20https%3a%2f%2fwww.googleapis.com%2fauth%2fdrive%20https%3a%2f%2fwww.googleapis.com%2fauth%2fdrive.photos.readonly%20https%3a%2f%2fwww.googleapis.com%2fauth%2fpeopleapi.readonly\n",
            "\n",
            "Enter your authorization code:\n",
            "··········\n",
            "Mounted at /content/gdrive\n"
          ],
          "name": "stdout"
        }
      ]
    },
    {
      "cell_type": "code",
      "metadata": {
        "id": "gwzjFnB5ptIL",
        "colab_type": "code",
        "outputId": "94de8932-48ce-4aff-a021-c770950c2050",
        "colab": {
          "base_uri": "https://localhost:8080/",
          "height": 50
        }
      },
      "source": [
        "#@title # Set data path {display-mode: \"form\"}\n",
        "\n",
        "#@markdown ---\n",
        "#@markdown Type in the folder in your google drive that contains numpy _data_ folder:\n",
        "\n",
        "parent_dir = 'soroush_deep_eeg'#@param {type:\"string\"}\n",
        "gdrive_path =  os.path.abspath(os.path.join('gdrive/My Drive', parent_dir))\n",
        "data_dir = os.path.join(gdrive_path, 'data')\n",
        "cv_results_dir = os.path.join(gdrive_path, 'cross_validation')\n",
        "if not os.path.exists(cv_results_dir):\n",
        "    os.mkdir(cv_results_dir)\n",
        "\n",
        "print('Data directory: ', data_dir)\n",
        "print('Cross validation results dir: ', cv_results_dir)"
      ],
      "execution_count": 3,
      "outputs": [
        {
          "output_type": "stream",
          "text": [
            "Data directory:  /content/gdrive/My Drive/soroush_deep_eeg/data\n",
            "Cross validation results dir:  /content/gdrive/My Drive/soroush_deep_eeg/cross_validation\n"
          ],
          "name": "stdout"
        }
      ]
    },
    {
      "cell_type": "code",
      "metadata": {
        "id": "_NdDuoHWpwe4",
        "colab_type": "code",
        "cellView": "form",
        "colab": {}
      },
      "source": [
        "#@title # Set Parameters\n",
        "\n",
        "batch_size = 80\n",
        "epochs = 50\n",
        "k = 10\n",
        "t = 10\n",
        "instance_duration = 4 \n",
        "instance_overlap = 1 \n",
        "sampling_rate = 256 \n",
        "n_channels = 19 \n",
        "task = 'rnr'\n",
        "data_mode = 'cross_subject'"
      ],
      "execution_count": 0,
      "outputs": []
    },
    {
      "cell_type": "markdown",
      "metadata": {
        "id": "QA43AGAEiKH8",
        "colab_type": "text"
      },
      "source": [
        "# 10times 10folds CV"
      ]
    },
    {
      "cell_type": "code",
      "metadata": {
        "id": "2aqgfC5aqCkP",
        "colab_type": "code",
        "cellView": "form",
        "colab": {}
      },
      "source": [
        "#@title ## BaselineDeepEEG\n",
        "\n",
        "model_name = 'BaselineDeepEEG'\n",
        "\n",
        "train_generator = FixedLenGenerator(batch_size=batch_size,\n",
        "                                    duration=instance_duration,\n",
        "                                    overlap=instance_overlap,\n",
        "                                    sampling_rate=sampling_rate,\n",
        "                                    is_train=True)\n",
        "\n",
        "test_generator = FixedLenGenerator(batch_size=8,\n",
        "                                   duration=instance_duration,\n",
        "                                   overlap=instance_overlap,\n",
        "                                   sampling_rate=sampling_rate,\n",
        "                                   is_train=False)\n",
        "\n",
        "params = {'task': task,\n",
        "          'data_mode': data_mode,\n",
        "          'main_res_dir': cv_results_dir,\n",
        "          'model_name': model_name,\n",
        "          'epochs': epochs,\n",
        "          'train_generator': train_generator,\n",
        "          'test_generator': test_generator,\n",
        "          't': t,\n",
        "          'k': k,\n",
        "          'channel_drop': True,\n",
        "          'use_early_stopping_callback': False}\n",
        "\n",
        "validator = CrossValidator(**params)\n",
        "\n",
        "dataloader = DataLoader(data_dir,\n",
        "                        task,\n",
        "                        data_mode,\n",
        "                        sampling_rate,\n",
        "                        instance_duration,\n",
        "                        instance_overlap)\n",
        "data, labels = dataloader.load_data()\n",
        "\n",
        "input_shape = (sampling_rate * instance_duration,\n",
        "               n_channels)\n",
        "\n",
        "model_obj = BaselineDeepEEG(input_shape,\n",
        "                            model_name=model_name)\n",
        "model = model_obj.create_model()\n",
        "model.summary()\n",
        "\n",
        "scores = validator.do_cv(model_obj,\n",
        "                         data,\n",
        "                         labels)"
      ],
      "execution_count": 0,
      "outputs": []
    },
    {
      "cell_type": "code",
      "metadata": {
        "id": "5WPcBNyWhoeY",
        "colab_type": "code",
        "cellView": "form",
        "colab": {}
      },
      "source": [
        "#@title ## WindowedDeepEEG\n",
        "\n",
        "model_name = 'WindowedDeepEEG'\n",
        "\n",
        "train_generator = FixedLenGenerator(batch_size=batch_size,\n",
        "                                    duration=instance_duration,\n",
        "                                    overlap=instance_overlap,\n",
        "                                    sampling_rate=sampling_rate,\n",
        "                                    is_train=True)\n",
        "\n",
        "test_generator = FixedLenGenerator(batch_size=8,\n",
        "                                   duration=instance_duration,\n",
        "                                   overlap=instance_overlap,\n",
        "                                   sampling_rate=sampling_rate,\n",
        "                                   is_train=False)\n",
        "\n",
        "params = {'task': task,\n",
        "          'data_mode': data_mode,\n",
        "          'main_res_dir': cv_results_dir,\n",
        "          'model_name': model_name,\n",
        "          'epochs': epochs,\n",
        "          'train_generator': train_generator,\n",
        "          'test_generator': test_generator,\n",
        "          't': t,\n",
        "          'k': k,\n",
        "          'channel_drop': True}\n",
        "\n",
        "validator = CrossValidator(**params)\n",
        "\n",
        "dataloader = DataLoader(data_dir,\n",
        "                        task,\n",
        "                        data_mode,\n",
        "                        sampling_rate,\n",
        "                        instance_duration,\n",
        "                        instance_overlap)\n",
        "data, labels = dataloader.load_data()\n",
        "\n",
        "input_shape = (sampling_rate * instance_duration,\n",
        "               n_channels)\n",
        "\n",
        "model_obj = WindowedDeepEEG(input_shape,\n",
        "                            model_name=model_name)\n",
        "model = model_obj.create_model()\n",
        "model.summary()\n",
        "\n",
        "scores = validator.do_cv(model_obj,\n",
        "                         data,\n",
        "                         labels)"
      ],
      "execution_count": 0,
      "outputs": []
    },
    {
      "cell_type": "code",
      "metadata": {
        "id": "bOiA3QX5hudC",
        "colab_type": "code",
        "cellView": "form",
        "colab": {}
      },
      "source": [
        "#@title ## DilatedDeepEEG\n",
        "\n",
        "model_name = 'DilatedDeepEEG'\n",
        "\n",
        "train_generator = FixedLenGenerator(batch_size=batch_size,\n",
        "                                    duration=instance_duration,\n",
        "                                    overlap=instance_overlap,\n",
        "                                    sampling_rate=sampling_rate,\n",
        "                                    is_train=True)\n",
        "\n",
        "test_generator = FixedLenGenerator(batch_size=8,\n",
        "                                   duration=instance_duration,\n",
        "                                   overlap=instance_overlap,\n",
        "                                   sampling_rate=sampling_rate,\n",
        "                                   is_train=False)\n",
        "\n",
        "params = {'task': task,\n",
        "          'data_mode': data_mode,\n",
        "          'main_res_dir': cv_results_dir,\n",
        "          'model_name': model_name,\n",
        "          'epochs': epochs,\n",
        "          'train_generator': train_generator,\n",
        "          'test_generator': test_generator,\n",
        "          't': t,\n",
        "          'k': k,\n",
        "          'channel_drop': True}\n",
        "\n",
        "validator = CrossValidator(**params)\n",
        "\n",
        "dataloader = DataLoader(data_dir,\n",
        "                        task,\n",
        "                        data_mode,\n",
        "                        sampling_rate,\n",
        "                        instance_duration,\n",
        "                        instance_overlap)\n",
        "data, labels = dataloader.load_data()\n",
        "\n",
        "input_shape = (sampling_rate * instance_duration,\n",
        "               n_channels)\n",
        "\n",
        "model_obj = DilatedDeepEEG(input_shape,\n",
        "                           model_name=model_name)\n",
        "model = model_obj.create_model()\n",
        "model.summary()\n",
        "\n",
        "scores = validator.do_cv(model_obj,\n",
        "                         data,\n",
        "                         labels)"
      ],
      "execution_count": 0,
      "outputs": []
    },
    {
      "cell_type": "code",
      "metadata": {
        "id": "foGsWIc3J2eS",
        "colab_type": "code",
        "colab": {},
        "cellView": "form"
      },
      "source": [
        "#@title ## LightDilatedDeepEEG\n",
        "\n",
        "model_name = 'LightDilatedDeepEEG'\n",
        "\n",
        "train_generator = FixedLenGenerator(batch_size=batch_size,\n",
        "                                    duration=instance_duration,\n",
        "                                    overlap=instance_overlap,\n",
        "                                    sampling_rate=sampling_rate,\n",
        "                                    is_train=True)\n",
        "\n",
        "test_generator = FixedLenGenerator(batch_size=8,\n",
        "                                   duration=instance_duration,\n",
        "                                   overlap=instance_overlap,\n",
        "                                   sampling_rate=sampling_rate,\n",
        "                                   is_train=False)\n",
        "\n",
        "params = {'task': task,\n",
        "          'data_mode': data_mode,\n",
        "          'main_res_dir': cv_results_dir,\n",
        "          'model_name': model_name,\n",
        "          'epochs': epochs,\n",
        "          'train_generator': train_generator,\n",
        "          'test_generator': test_generator,\n",
        "          't': t,\n",
        "          'k': k,\n",
        "          'channel_drop': True}\n",
        "\n",
        "validator = CrossValidator(**params)\n",
        "\n",
        "dataloader = DataLoader(data_dir,\n",
        "                        task,\n",
        "                        data_mode,\n",
        "                        sampling_rate,\n",
        "                        instance_duration,\n",
        "                        instance_overlap)\n",
        "data, labels = dataloader.load_data()\n",
        "\n",
        "input_shape = (sampling_rate * instance_duration,\n",
        "               n_channels)\n",
        "\n",
        "model_obj = LightDilatedDeepEEG(input_shape,\n",
        "                                model_name=model_name)\n",
        "model = model_obj.create_model()\n",
        "model.summary()\n",
        "\n",
        "scores = validator.do_cv(model_obj,\n",
        "                         data,\n",
        "                         labels)\n",
        "\n"
      ],
      "execution_count": 0,
      "outputs": []
    },
    {
      "cell_type": "code",
      "metadata": {
        "id": "MKcX6kaA37qI",
        "colab_type": "code",
        "colab": {},
        "cellView": "form"
      },
      "source": [
        "#@title # Statistical test\n",
        "\n",
        "from deepeeg.helpers import StatisticalTester\n",
        "\n",
        "tester = StatisticalTester()\n",
        "tester.do_t_test(os.path.join(cv_results_dir, 'cross_subject_rnr'))"
      ],
      "execution_count": 0,
      "outputs": []
    },
    {
      "cell_type": "code",
      "metadata": {
        "id": "zY9A-mzc4dz-",
        "colab_type": "code",
        "colab": {}
      },
      "source": [
        ""
      ],
      "execution_count": 0,
      "outputs": []
    }
  ]
}