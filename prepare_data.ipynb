{
  "nbformat": 4,
  "nbformat_minor": 0,
  "metadata": {
    "colab": {
      "name": "prepare_data.ipynb",
      "provenance": [],
      "collapsed_sections": [],
      "include_colab_link": true
    },
    "kernelspec": {
      "name": "python3",
      "display_name": "Python 3"
    }
  },
  "cells": [
    {
      "cell_type": "markdown",
      "metadata": {
        "id": "view-in-github",
        "colab_type": "text"
      },
      "source": [
        "<a href=\"https://colab.research.google.com/github/iamsoroush/DeepEEG/blob/master/prepare_data.ipynb\" target=\"_parent\"><img src=\"https://colab.research.google.com/assets/colab-badge.svg\" alt=\"Open In Colab\"/></a>"
      ]
    },
    {
      "cell_type": "code",
      "metadata": {
        "id": "DaiQxTRn-8Kt",
        "colab_type": "code",
        "cellView": "form",
        "outputId": "6e60cd25-9956-4615-b187-a81f0fcb218a",
        "colab": {
          "base_uri": "https://localhost:8080/",
          "height": 235
        }
      },
      "source": [
        "#@title # Clone the repository\n",
        "\n",
        "!git clone https://github.com/iamsoroush/DeepEEG.git\n",
        "!pip install mne"
      ],
      "execution_count": 1,
      "outputs": [
        {
          "output_type": "stream",
          "text": [
            "Cloning into 'DeepEEG'...\n",
            "remote: Enumerating objects: 30, done.\u001b[K\n",
            "remote: Counting objects: 100% (30/30), done.\u001b[K\n",
            "remote: Compressing objects: 100% (21/21), done.\u001b[K\n",
            "remote: Total 30 (delta 13), reused 23 (delta 9), pack-reused 0\n",
            "Unpacking objects: 100% (30/30), done.\n",
            "Collecting mne\n",
            "\u001b[?25l  Downloading https://files.pythonhosted.org/packages/16/18/42a64bf66ec7b690d40fc63231bc3b323307ebd69b253137dd91b8ef7fb6/mne-0.19.1-py3-none-any.whl (6.4MB)\n",
            "\u001b[K     |████████████████████████████████| 6.4MB 2.6MB/s \n",
            "\u001b[?25hRequirement already satisfied: scipy>=0.17.1 in /usr/local/lib/python3.6/dist-packages (from mne) (1.3.1)\n",
            "Requirement already satisfied: numpy>=1.11.3 in /usr/local/lib/python3.6/dist-packages (from mne) (1.17.3)\n",
            "Installing collected packages: mne\n",
            "Successfully installed mne-0.19.1\n"
          ],
          "name": "stdout"
        }
      ]
    },
    {
      "cell_type": "code",
      "metadata": {
        "id": "2olIs9IcAH_B",
        "colab_type": "code",
        "cellView": "form",
        "outputId": "0249102a-f93d-4a02-9778-d471a1f531d1",
        "colab": {
          "base_uri": "https://localhost:8080/",
          "height": 154
        }
      },
      "source": [
        "#@title # Imports\n",
        "\n",
        "import os\n",
        "import sys\n",
        "sys.path.append('DeepEEG')\n",
        "\n",
        "from make_data import download_data, generate_data\n",
        "\n",
        "from google.colab import drive\n",
        "drive.mount('/content/gdrive')"
      ],
      "execution_count": 3,
      "outputs": [
        {
          "output_type": "stream",
          "text": [
            "/usr/local/lib/python3.6/dist-packages/numba/decorators.py:146: RuntimeWarning: Caching is not available when the 'parallel' target is in use. Caching is now being disabled to allow execution to continue.\n",
            "  warnings.warn(msg, RuntimeWarning)\n"
          ],
          "name": "stderr"
        },
        {
          "output_type": "stream",
          "text": [
            "Go to this URL in a browser: https://accounts.google.com/o/oauth2/auth?client_id=947318989803-6bn6qk8qdgf4n4g3pfee6491hc0brc4i.apps.googleusercontent.com&redirect_uri=urn%3Aietf%3Awg%3Aoauth%3A2.0%3Aoob&scope=email%20https%3A%2F%2Fwww.googleapis.com%2Fauth%2Fdocs.test%20https%3A%2F%2Fwww.googleapis.com%2Fauth%2Fdrive%20https%3A%2F%2Fwww.googleapis.com%2Fauth%2Fdrive.photos.readonly%20https%3A%2F%2Fwww.googleapis.com%2Fauth%2Fpeopleapi.readonly&response_type=code\n",
            "\n",
            "Enter your authorization code:\n",
            "··········\n",
            "Mounted at /content/gdrive\n"
          ],
          "name": "stdout"
        }
      ]
    },
    {
      "cell_type": "code",
      "metadata": {
        "id": "VLiDyvTZABv8",
        "colab_type": "code",
        "outputId": "7939bb4f-3eda-4f73-de8e-6807f6d8b47d",
        "colab": {
          "base_uri": "https://localhost:8080/",
          "height": 50
        }
      },
      "source": [
        "#@title # Set data path {display-mode: \"form\"}\n",
        "\n",
        "#@markdown ---\n",
        "\n",
        "download_dir = 'soroush_deep_eeg' #@param {type:\"string\"}\n",
        "gdrive_path =  os.path.abspath(os.path.join('gdrive/My Drive', download_dir))\n",
        "\n",
        "if not os.path.exists(gdrive_path):\n",
        "    os.mkdir(gdrive_path)\n",
        "\n",
        "edf_data_dir = os.path.join(gdrive_path, 'eeg_data')\n",
        "data_dir = os.path.join(gdrive_path, 'data')\n",
        "\n",
        "print('edf data directory: ', edf_data_dir)\n",
        "print('Numpy data directory: ', data_dir)\n"
      ],
      "execution_count": 4,
      "outputs": [
        {
          "output_type": "stream",
          "text": [
            "edf data directory:  /content/gdrive/My Drive/soroush_deep_eeg/eeg_data\n",
            "Numpy data directory:  /content/gdrive/My Drive/soroush_deep_eeg/data\n"
          ],
          "name": "stdout"
        }
      ]
    },
    {
      "cell_type": "code",
      "metadata": {
        "id": "7Y-ryYruKbsR",
        "colab_type": "code",
        "cellView": "form",
        "outputId": "a170ee08-e972-439d-8033-2a62f51f94cc",
        "colab": {
          "base_uri": "https://localhost:8080/",
          "height": 118
        }
      },
      "source": [
        "#@title # Download data and generate numpy data\n",
        "\n",
        "download_data(gdrive_path)\n",
        "generate_data(src_dir=edf_data_dir, dst_dir=data_dir, n_channels=19)\n",
        "\n",
        "print('Data is ready on ', data_dir)"
      ],
      "execution_count": 5,
      "outputs": [
        {
          "output_type": "stream",
          "text": [
            "Downloading file eeg_data.zip ...\n",
            "File downloaded to  /content/gdrive/My Drive/soroush_deep_eeg/eeg_data.zip\n",
            "Zip file extracted to  /content/gdrive/My Drive/soroush_deep_eeg/eeg_data\n"
          ],
          "name": "stdout"
        },
        {
          "output_type": "stream",
          "text": [
            "\r  0%|          | 0/119 [00:00<?, ?it/s]"
          ],
          "name": "stderr"
        },
        {
          "output_type": "stream",
          "text": [
            "Loading samples ...\n"
          ],
          "name": "stdout"
        },
        {
          "output_type": "stream",
          "text": [
            "100%|██████████| 119/119 [00:31<00:00,  1.48it/s]"
          ],
          "name": "stderr"
        },
        {
          "output_type": "stream",
          "text": [
            "Data is ready on  /content/gdrive/My Drive/soroush_deep_eeg/data\n"
          ],
          "name": "stdout"
        },
        {
          "output_type": "stream",
          "text": [
            "\n"
          ],
          "name": "stderr"
        }
      ]
    },
    {
      "cell_type": "markdown",
      "metadata": {
        "id": "84POEmAcNKK3",
        "colab_type": "text"
      },
      "source": [
        "End of file."
      ]
    }
  ]
}