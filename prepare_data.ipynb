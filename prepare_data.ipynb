{
  "nbformat": 4,
  "nbformat_minor": 0,
  "metadata": {
    "colab": {
      "name": "prepare_data.ipynb",
      "provenance": [],
      "collapsed_sections": [],
      "include_colab_link": true
    },
    "kernelspec": {
      "name": "python3",
      "display_name": "Python 3"
    }
  },
  "cells": [
    {
      "cell_type": "markdown",
      "metadata": {
        "id": "view-in-github",
        "colab_type": "text"
      },
      "source": [
        "<a href=\"https://colab.research.google.com/github/iamsoroush/DeepEEG/blob/master/prepare_data.ipynb\" target=\"_parent\"><img src=\"https://colab.research.google.com/assets/colab-badge.svg\" alt=\"Open In Colab\"/></a>"
      ]
    },
    {
      "cell_type": "code",
      "metadata": {
        "id": "DaiQxTRn-8Kt",
        "colab_type": "code",
        "cellView": "form",
        "colab": {}
      },
      "source": [
        "#@title # Clone the repository\n",
        "\n",
        "!git clone https://github.com/iamsoroush/DeepEEG.git\n",
        "!pip install mne"
      ],
      "execution_count": 0,
      "outputs": []
    },
    {
      "cell_type": "code",
      "metadata": {
        "id": "2olIs9IcAH_B",
        "colab_type": "code",
        "cellView": "form",
        "colab": {}
      },
      "source": [
        "#@title # Imports\n",
        "\n",
        "import os\n",
        "import sys\n",
        "sys.path.append('DeepEEG')\n",
        "\n",
        "from deepeeg.make_data import download_data, generate_data\n",
        "\n",
        "from google.colab import drive\n",
        "drive.mount('/content/gdrive')"
      ],
      "execution_count": 0,
      "outputs": []
    },
    {
      "cell_type": "code",
      "metadata": {
        "id": "VLiDyvTZABv8",
        "colab_type": "code",
        "colab": {}
      },
      "source": [
        "#@title # Set data path {display-mode: \"form\"}\n",
        "\n",
        "#@markdown ---\n",
        "\n",
        "download_dir = 'soroush_deep_eeg' #@param {type:\"string\"}\n",
        "gdrive_path =  os.path.abspath(os.path.join('gdrive/My Drive', download_dir))\n",
        "\n",
        "if not os.path.exists(gdrive_path):\n",
        "    os.mkdir(gdrive_path)\n",
        "\n",
        "edf_data_dir = os.path.join(gdrive_path, 'eeg_data')\n",
        "data_dir = os.path.join(gdrive_path, 'data')\n",
        "\n",
        "print('edf data directory: ', edf_data_dir)\n",
        "print('Numpy data directory: ', data_dir)\n"
      ],
      "execution_count": 0,
      "outputs": []
    },
    {
      "cell_type": "code",
      "metadata": {
        "id": "7Y-ryYruKbsR",
        "colab_type": "code",
        "cellView": "form",
        "colab": {}
      },
      "source": [
        "#@title # Download data and generate numpy data\n",
        "\n",
        "download_data(gdrive_path)\n",
        "generate_data(src_dir=edf_data_dir, dst_dir=data_dir, n_channels=19)\n",
        "\n",
        "print('Data is ready on ', data_dir)"
      ],
      "execution_count": 0,
      "outputs": []
    },
    {
      "cell_type": "markdown",
      "metadata": {
        "id": "84POEmAcNKK3",
        "colab_type": "text"
      },
      "source": [
        "End of file."
      ]
    }
  ]
}