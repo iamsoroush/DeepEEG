{
  "nbformat": 4,
  "nbformat_minor": 0,
  "metadata": {
    "colab": {
      "name": "attv_vs_gap_tests.ipynb",
      "provenance": [],
      "collapsed_sections": [],
      "include_colab_link": true
    },
    "kernelspec": {
      "name": "python3",
      "display_name": "Python 3"
    },
    "accelerator": "GPU"
  },
  "cells": [
    {
      "cell_type": "markdown",
      "metadata": {
        "id": "view-in-github",
        "colab_type": "text"
      },
      "source": [
        "<a href=\"https://colab.research.google.com/github/iamsoroush/DeepEEG/blob/master/attv_vs_gap_tests.ipynb\" target=\"_parent\"><img src=\"https://colab.research.google.com/assets/colab-badge.svg\" alt=\"Open In Colab\"/></a>"
      ]
    },
    {
      "cell_type": "code",
      "metadata": {
        "id": "_JCUvRGHlz5M",
        "colab_type": "code",
        "colab": {}
      },
      "source": [
        "#@title # Clone the repository and upgrade Keras {display-mode: \"form\"}\n",
        "\n",
        "!git clone https://github.com/iamsoroush/DeepEEG.git\n",
        "!pip install --upgrade keras"
      ],
      "execution_count": 0,
      "outputs": []
    },
    {
      "cell_type": "code",
      "metadata": {
        "id": "7_sHB4_nsc8J",
        "colab_type": "code",
        "colab": {}
      },
      "source": [
        "!rm -r DeepEEG"
      ],
      "execution_count": 0,
      "outputs": []
    },
    {
      "cell_type": "code",
      "metadata": {
        "id": "-dMfhjVypjFa",
        "colab_type": "code",
        "colab": {}
      },
      "source": [
        "#@title # Imports {display-mode: \"form\"}\n",
        "\n",
        "import os\n",
        "import pickle\n",
        "import sys\n",
        "sys.path.append('DeepEEG')\n",
        "\n",
        "PACKAGE_PARENT = '..'\n",
        "SCRIPT_DIR = os.path.dirname(os.path.realpath(os.getcwd()))\n",
        "sys.path.append(os.path.normpath(os.path.join(SCRIPT_DIR, PACKAGE_PARENT)))\n",
        "\n",
        "import numpy as np\n",
        "\n",
        "from deepeeg.helpers import CrossValidator\n",
        "from deepeeg.models import DilatedDeepEEG\n",
        "from deepeeg.dataset import DataLoader, Splitter, FixedLenGenerator\n",
        "\n",
        "from google.colab import drive\n",
        "drive.mount('/content/gdrive')"
      ],
      "execution_count": 0,
      "outputs": []
    },
    {
      "cell_type": "code",
      "metadata": {
        "id": "gwzjFnB5ptIL",
        "colab_type": "code",
        "outputId": "f7a43699-f0e5-491c-ab08-b697dcb28009",
        "colab": {
          "base_uri": "https://localhost:8080/",
          "height": 50
        }
      },
      "source": [
        "#@title # Set data path {display-mode: \"form\"}\n",
        "\n",
        "#@markdown ---\n",
        "#@markdown Type in the folder in your google drive that contains numpy _data_ folder:\n",
        "\n",
        "parent_dir = 'soroush_deep_eeg'#@param {type:\"string\"}\n",
        "gdrive_path =  os.path.abspath(os.path.join('gdrive/My Drive', parent_dir))\n",
        "data_dir = os.path.join(gdrive_path, 'data')\n",
        "cv_results_dir = os.path.join(gdrive_path, 'cross_validation')\n",
        "if not os.path.exists(cv_results_dir):\n",
        "    os.mkdir(cv_results_dir)\n",
        "\n",
        "print('Data directory: ', data_dir)\n",
        "print('Cross validation results dir: ', cv_results_dir)"
      ],
      "execution_count": 3,
      "outputs": [
        {
          "output_type": "stream",
          "text": [
            "Data directory:  /content/gdrive/My Drive/soroush_deep_eeg/data\n",
            "Cross validation results dir:  /content/gdrive/My Drive/soroush_deep_eeg/cross_validation\n"
          ],
          "name": "stdout"
        }
      ]
    },
    {
      "cell_type": "code",
      "metadata": {
        "id": "_NdDuoHWpwe4",
        "colab_type": "code",
        "cellView": "form",
        "colab": {}
      },
      "source": [
        "#@title # Set Parameters\n",
        "\n",
        "batch_size = 80\n",
        "epochs = 50\n",
        "k = 10\n",
        "t = 10\n",
        "sampling_rate = 256 \n",
        "n_channels = 19 \n",
        "data_mode = 'cross_subject'"
      ],
      "execution_count": 0,
      "outputs": []
    },
    {
      "cell_type": "markdown",
      "metadata": {
        "id": "U0p8XCLNfGTH",
        "colab_type": "text"
      },
      "source": [
        "# RnR"
      ]
    },
    {
      "cell_type": "code",
      "metadata": {
        "id": "wzWsxNZqfJQW",
        "colab_type": "code",
        "cellView": "form",
        "outputId": "ccf569dd-497f-47a5-decf-4541679ca775",
        "colab": {
          "base_uri": "https://localhost:8080/",
          "height": 1000
        }
      },
      "source": [
        "#@title ## DilatedDeepEEG-AttV1-Fixed4-Fixed8\n",
        "\n",
        "instance_duration_tr = 4 \n",
        "instance_overlap_tr = 1 \n",
        "instance_duration_val = 8\n",
        "instance_overlap_val = 2\n",
        "\n",
        "task = 'rnr'\n",
        "model_name = 'DilatedDeepEEG-AttV1-Fixed4-Fixed8'\n",
        "\n",
        "train_generator = FixedLenGenerator(batch_size=batch_size,\n",
        "                                    duration=instance_duration_tr,\n",
        "                                    overlap=instance_overlap_tr,\n",
        "                                    sampling_rate=sampling_rate,\n",
        "                                    is_train=True)\n",
        "\n",
        "test_generator = FixedLenGenerator(batch_size=4,\n",
        "                                   duration=instance_duration_val,\n",
        "                                   overlap=instance_overlap_val,\n",
        "                                   sampling_rate=sampling_rate,\n",
        "                                   is_train=False)\n",
        "\n",
        "params = {'task': task,\n",
        "          'data_mode': data_mode,\n",
        "          'main_res_dir': cv_results_dir,\n",
        "          'model_name': model_name,\n",
        "          'epochs': epochs,\n",
        "          'train_generator': train_generator,\n",
        "          'test_generator': test_generator,\n",
        "          't': t,\n",
        "          'k': k,\n",
        "          'channel_drop': True}\n",
        "\n",
        "validator = CrossValidator(**params)\n",
        "\n",
        "dataloader = DataLoader(data_dir,\n",
        "                        task,\n",
        "                        data_mode,\n",
        "                        sampling_rate,\n",
        "                        None,\n",
        "                        None)\n",
        "data, labels = dataloader.load_data()\n",
        "\n",
        "input_shape = (None,\n",
        "               n_channels)\n",
        "\n",
        "model_obj = DilatedDeepEEG(input_shape,\n",
        "                           model_name=model_name,\n",
        "                           attention='v1')\n",
        "model = model_obj.create_model()\n",
        "model.summary()\n",
        "\n",
        "scores = validator.do_cv(model_obj,\n",
        "                         data,\n",
        "                         labels)"
      ],
      "execution_count": 0,
      "outputs": [
        {
          "output_type": "stream",
          "text": [
            "\r  0%|          | 0/59 [00:00<?, ?it/s]"
          ],
          "name": "stderr"
        },
        {
          "output_type": "stream",
          "text": [
            "\n",
            "Loading data ...\n",
            "\n"
          ],
          "name": "stdout"
        },
        {
          "output_type": "stream",
          "text": [
            "100%|██████████| 59/59 [00:42<00:00,  2.26it/s]"
          ],
          "name": "stderr"
        },
        {
          "output_type": "stream",
          "text": [
            "WARNING:tensorflow:From /usr/local/lib/python3.6/dist-packages/tensorflow_core/python/ops/resource_variable_ops.py:1630: calling BaseResourceVariable.__init__ (from tensorflow.python.ops.resource_variable_ops) with constraint is deprecated and will be removed in a future version.\n",
            "Instructions for updating:\n",
            "If using Keras pass *_constraint arguments to layers.\n"
          ],
          "name": "stdout"
        },
        {
          "output_type": "stream",
          "text": [
            "\n"
          ],
          "name": "stderr"
        },
        {
          "output_type": "stream",
          "text": [
            "WARNING:tensorflow:From /usr/local/lib/python3.6/dist-packages/keras/backend/tensorflow_backend.py:4074: The name tf.nn.avg_pool is deprecated. Please use tf.nn.avg_pool2d instead.\n",
            "\n",
            "Model: \"model_1\"\n",
            "__________________________________________________________________________________________________\n",
            "Layer (type)                    Output Shape         Param #     Connected to                     \n",
            "==================================================================================================\n",
            "input_tensor (InputLayer)       (None, None, 19)     0                                            \n",
            "__________________________________________________________________________________________________\n",
            "conv1d_1 (Conv1D)               (None, None, 8)      912         input_tensor[0][0]               \n",
            "__________________________________________________________________________________________________\n",
            "activation_1 (Activation)       (None, None, 8)      0           conv1d_1[0][0]                   \n",
            "__________________________________________________________________________________________________\n",
            "conv1d_2 (Conv1D)               (None, None, 8)      384         activation_1[0][0]               \n",
            "__________________________________________________________________________________________________\n",
            "conv1d_3 (Conv1D)               (None, None, 8)      1216        input_tensor[0][0]               \n",
            "__________________________________________________________________________________________________\n",
            "conv1d_4 (Conv1D)               (None, None, 8)      1216        input_tensor[0][0]               \n",
            "__________________________________________________________________________________________________\n",
            "activation_2 (Activation)       (None, None, 8)      0           conv1d_2[0][0]                   \n",
            "__________________________________________________________________________________________________\n",
            "activation_3 (Activation)       (None, None, 8)      0           conv1d_3[0][0]                   \n",
            "__________________________________________________________________________________________________\n",
            "activation_4 (Activation)       (None, None, 8)      0           conv1d_4[0][0]                   \n",
            "__________________________________________________________________________________________________\n",
            "concatenate_1 (Concatenate)     (None, None, 24)     0           activation_2[0][0]               \n",
            "                                                                 activation_3[0][0]               \n",
            "                                                                 activation_4[0][0]               \n",
            "__________________________________________________________________________________________________\n",
            "average_pooling1d_1 (AveragePoo (None, None, 24)     0           concatenate_1[0][0]              \n",
            "__________________________________________________________________________________________________\n",
            "spatial_dropout1d_1 (SpatialDro (None, None, 24)     0           average_pooling1d_1[0][0]        \n",
            "__________________________________________________________________________________________________\n",
            "conv1d_5 (Conv1D)               (None, None, 6)      864         spatial_dropout1d_1[0][0]        \n",
            "__________________________________________________________________________________________________\n",
            "activation_5 (Activation)       (None, None, 6)      0           conv1d_5[0][0]                   \n",
            "__________________________________________________________________________________________________\n",
            "conv1d_6 (Conv1D)               (None, None, 6)      216         activation_5[0][0]               \n",
            "__________________________________________________________________________________________________\n",
            "conv1d_7 (Conv1D)               (None, None, 6)      1152        spatial_dropout1d_1[0][0]        \n",
            "__________________________________________________________________________________________________\n",
            "conv1d_8 (Conv1D)               (None, None, 6)      1152        spatial_dropout1d_1[0][0]        \n",
            "__________________________________________________________________________________________________\n",
            "activation_6 (Activation)       (None, None, 6)      0           conv1d_6[0][0]                   \n",
            "__________________________________________________________________________________________________\n",
            "activation_7 (Activation)       (None, None, 6)      0           conv1d_7[0][0]                   \n",
            "__________________________________________________________________________________________________\n",
            "activation_8 (Activation)       (None, None, 6)      0           conv1d_8[0][0]                   \n",
            "__________________________________________________________________________________________________\n",
            "concatenate_2 (Concatenate)     (None, None, 18)     0           activation_6[0][0]               \n",
            "                                                                 activation_7[0][0]               \n",
            "                                                                 activation_8[0][0]               \n",
            "__________________________________________________________________________________________________\n",
            "average_pooling1d_2 (AveragePoo (None, None, 18)     0           concatenate_2[0][0]              \n",
            "__________________________________________________________________________________________________\n",
            "dropout_1 (Dropout)             (None, None, 18)     0           average_pooling1d_2[0][0]        \n",
            "__________________________________________________________________________________________________\n",
            "conv1d_9 (Conv1D)               (None, None, 4)      432         dropout_1[0][0]                  \n",
            "__________________________________________________________________________________________________\n",
            "activation_9 (Activation)       (None, None, 4)      0           conv1d_9[0][0]                   \n",
            "__________________________________________________________________________________________________\n",
            "conv1d_10 (Conv1D)              (None, None, 4)      96          activation_9[0][0]               \n",
            "__________________________________________________________________________________________________\n",
            "conv1d_11 (Conv1D)              (None, None, 4)      576         dropout_1[0][0]                  \n",
            "__________________________________________________________________________________________________\n",
            "conv1d_12 (Conv1D)              (None, None, 4)      576         dropout_1[0][0]                  \n",
            "__________________________________________________________________________________________________\n",
            "activation_10 (Activation)      (None, None, 4)      0           conv1d_10[0][0]                  \n",
            "__________________________________________________________________________________________________\n",
            "activation_11 (Activation)      (None, None, 4)      0           conv1d_11[0][0]                  \n",
            "__________________________________________________________________________________________________\n",
            "activation_12 (Activation)      (None, None, 4)      0           conv1d_12[0][0]                  \n",
            "__________________________________________________________________________________________________\n",
            "concatenate_3 (Concatenate)     (None, None, 12)     0           activation_10[0][0]              \n",
            "                                                                 activation_11[0][0]              \n",
            "                                                                 activation_12[0][0]              \n",
            "__________________________________________________________________________________________________\n",
            "average_pooling1d_3 (AveragePoo (None, None, 12)     0           concatenate_3[0][0]              \n",
            "__________________________________________________________________________________________________\n",
            "temporal_attention_1 (TemporalA (None, 12)           13          average_pooling1d_3[0][0]        \n",
            "__________________________________________________________________________________________________\n",
            "output (Dense)                  (None, 1)            13          temporal_attention_1[0][0]       \n",
            "==================================================================================================\n",
            "Total params: 8,818\n",
            "Trainable params: 8,818\n",
            "Non-trainable params: 0\n",
            "__________________________________________________________________________________________________\n",
            "Train-test indices generated.\n",
            "time 1/10:\n",
            " step 1/10 ...\n",
            "   training instances:  4954\n",
            "   test instances:      331\n",
            "WARNING:tensorflow:From /usr/local/lib/python3.6/dist-packages/tensorflow_core/python/ops/nn_impl.py:183: where (from tensorflow.python.ops.array_ops) is deprecated and will be removed in a future version.\n",
            "Instructions for updating:\n",
            "Use tf.where in 2.0, which has the same broadcast rule as np.where\n",
            "WARNING:tensorflow:From /usr/local/lib/python3.6/dist-packages/keras/backend/tensorflow_backend.py:422: The name tf.global_variables is deprecated. Please use tf.compat.v1.global_variables instead.\n",
            "\n"
          ],
          "name": "stdout"
        }
      ]
    },
    {
      "cell_type": "code",
      "metadata": {
        "id": "6ohE6lfqcHtO",
        "colab_type": "code",
        "colab": {},
        "cellView": "form"
      },
      "source": [
        "#@title ## DilatedDeepEEG-GAP-Fixed4-Fixed8\n",
        "\n",
        "instance_duration_tr = 4 \n",
        "instance_overlap_tr = 1 \n",
        "instance_duration_val = 8\n",
        "instance_overlap_val = 2\n",
        "\n",
        "task = 'rnr'\n",
        "model_name = 'DilatedDeepEEG-GAP-Fixed4-Fixed8'\n",
        "\n",
        "train_generator = FixedLenGenerator(batch_size=batch_size,\n",
        "                                    duration=instance_duration_tr,\n",
        "                                    overlap=instance_overlap_tr,\n",
        "                                    sampling_rate=sampling_rate,\n",
        "                                    is_train=True)\n",
        "\n",
        "test_generator = FixedLenGenerator(batch_size=4,\n",
        "                                   duration=instance_duration_val,\n",
        "                                   overlap=instance_overlap_val,\n",
        "                                   sampling_rate=sampling_rate,\n",
        "                                   is_train=False)\n",
        "\n",
        "params = {'task': task,\n",
        "          'data_mode': data_mode,\n",
        "          'main_res_dir': cv_results_dir,\n",
        "          'model_name': model_name,\n",
        "          'epochs': epochs,\n",
        "          'train_generator': train_generator,\n",
        "          'test_generator': test_generator,\n",
        "          't': t,\n",
        "          'k': k,\n",
        "          'channel_drop': True}\n",
        "\n",
        "validator = CrossValidator(**params)\n",
        "\n",
        "dataloader = DataLoader(data_dir,\n",
        "                        task,\n",
        "                        data_mode,\n",
        "                        sampling_rate,\n",
        "                        None,\n",
        "                        None)\n",
        "data, labels = dataloader.load_data()\n",
        "\n",
        "input_shape = (None,\n",
        "               n_channels)\n",
        "\n",
        "model_obj = DilatedDeepEEG(input_shape,\n",
        "                           model_name=model_name)\n",
        "model = model_obj.create_model()\n",
        "model.summary()\n",
        "\n",
        "scores = validator.do_cv(model_obj,\n",
        "                         data,\n",
        "                         labels)"
      ],
      "execution_count": 0,
      "outputs": []
    },
    {
      "cell_type": "markdown",
      "metadata": {
        "id": "5i7ihqAufXj_",
        "colab_type": "text"
      },
      "source": [
        "# H-MDD"
      ]
    },
    {
      "cell_type": "code",
      "metadata": {
        "id": "aMPhCmkbfZnG",
        "colab_type": "code",
        "cellView": "form",
        "colab": {}
      },
      "source": [
        "#@title ## DilatedDeepEEG-AttV1-Fixed4-Fixed8\n",
        "\n",
        "instance_duration_tr = 4 \n",
        "instance_overlap_tr = 1 \n",
        "instance_duration_val = 8\n",
        "instance_overlap_val = 2\n",
        "\n",
        "task = 'hmdd'\n",
        "model_name = 'DilatedDeepEEG-AttV1-Fixed4-Fixed8'\n",
        "\n",
        "train_generator = FixedLenGenerator(batch_size=batch_size,\n",
        "                                    duration=instance_duration_tr,\n",
        "                                    overlap=instance_overlap_tr,\n",
        "                                    sampling_rate=sampling_rate,\n",
        "                                    is_train=True)\n",
        "\n",
        "test_generator = FixedLenGenerator(batch_size=4,\n",
        "                                   duration=instance_duration_val,\n",
        "                                   overlap=instance_overlap_val,\n",
        "                                   sampling_rate=sampling_rate,\n",
        "                                   is_train=False)\n",
        "\n",
        "params = {'task': task,\n",
        "          'data_mode': data_mode,\n",
        "          'main_res_dir': cv_results_dir,\n",
        "          'model_name': model_name,\n",
        "          'epochs': epochs,\n",
        "          'train_generator': train_generator,\n",
        "          'test_generator': test_generator,\n",
        "          't': t,\n",
        "          'k': k,\n",
        "          'channel_drop': True}\n",
        "\n",
        "validator = CrossValidator(**params)\n",
        "\n",
        "dataloader = DataLoader(data_dir,\n",
        "                        task,\n",
        "                        data_mode,\n",
        "                        sampling_rate,\n",
        "                        None,\n",
        "                        None)\n",
        "data, labels = dataloader.load_data()\n",
        "\n",
        "input_shape = (None,\n",
        "               n_channels)\n",
        "\n",
        "model_obj = DilatedDeepEEG(input_shape,\n",
        "                           model_name=model_name,\n",
        "                           attention='v1')\n",
        "model = model_obj.create_model()\n",
        "model.summary()\n",
        "\n",
        "scores = validator.do_cv(model_obj,\n",
        "                         data,\n",
        "                         labels)"
      ],
      "execution_count": 0,
      "outputs": []
    },
    {
      "cell_type": "code",
      "metadata": {
        "id": "nO-OCqeJcWpz",
        "colab_type": "code",
        "colab": {},
        "cellView": "form"
      },
      "source": [
        "#@title ## DilatedDeepEEG-GAP-Fixed4-Fixed8\n",
        "\n",
        "instance_duration_tr = 4 \n",
        "instance_overlap_tr = 1 \n",
        "instance_duration_val = 8\n",
        "instance_overlap_val = 2\n",
        "\n",
        "task = 'hmdd'\n",
        "model_name = 'DilatedDeepEEG-GAP-Fixed4-Fixed8'\n",
        "\n",
        "train_generator = FixedLenGenerator(batch_size=batch_size,\n",
        "                                    duration=instance_duration_tr,\n",
        "                                    overlap=instance_overlap_tr,\n",
        "                                    sampling_rate=sampling_rate,\n",
        "                                    is_train=True)\n",
        "\n",
        "test_generator = FixedLenGenerator(batch_size=4,\n",
        "                                   duration=instance_duration_val,\n",
        "                                   overlap=instance_overlap_val,\n",
        "                                   sampling_rate=sampling_rate,\n",
        "                                   is_train=False)\n",
        "\n",
        "params = {'task': task,\n",
        "          'data_mode': data_mode,\n",
        "          'main_res_dir': cv_results_dir,\n",
        "          'model_name': model_name,\n",
        "          'epochs': epochs,\n",
        "          'train_generator': train_generator,\n",
        "          'test_generator': test_generator,\n",
        "          't': t,\n",
        "          'k': k,\n",
        "          'channel_drop': True}\n",
        "\n",
        "validator = CrossValidator(**params)\n",
        "\n",
        "dataloader = DataLoader(data_dir,\n",
        "                        task,\n",
        "                        data_mode,\n",
        "                        sampling_rate,\n",
        "                        None,\n",
        "                        None)\n",
        "data, labels = dataloader.load_data()\n",
        "\n",
        "input_shape = (None,\n",
        "               n_channels)\n",
        "\n",
        "model_obj = DilatedDeepEEG(input_shape,\n",
        "                           model_name=model_name)\n",
        "model = model_obj.create_model()\n",
        "model.summary()\n",
        "\n",
        "scores = validator.do_cv(model_obj,\n",
        "                         data,\n",
        "                         labels)"
      ],
      "execution_count": 0,
      "outputs": []
    }
  ]
}